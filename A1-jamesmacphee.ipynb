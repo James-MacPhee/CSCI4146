{
 "cells": [
  {
   "cell_type": "markdown",
   "metadata": {},
   "source": [
    "#1"
   ]
  },
  {
   "cell_type": "code",
   "execution_count": 136,
   "metadata": {},
   "outputs": [],
   "source": [
    "#2\n",
    "#a)\n",
    "\n",
    "import numpy as np\n",
    "import pandas as pd\n",
    "from sklearn.linear_model import LinearRegression\n",
    "from sklearn.metrics import mean_squared_error\n",
    "from sklearn.model_selection import train_test_split\n",
    "from sklearn.model_selection import cross_val_score\n",
    "from sklearn.preprocessing import LabelEncoder \n",
    "\n",
    "data = pd.read_csv(\"zomato.csv\")"
   ]
  },
  {
   "cell_type": "code",
   "execution_count": 137,
   "metadata": {},
   "outputs": [
    {
     "data": {
      "image/png": "[encoded data removed]",
      "text/plain": [
       "<Figure size 792x792 with 1 Axes>"
      ]
     },
     "metadata": {
      "needs_background": "light"
     },
     "output_type": "display_data"
    }
   ],
   "source": [
    "#b)\n",
    "import matplotlib.pyplot as plt\n",
    "#I don't understand why the plots are printing on top of each other\n",
    "data[data.dtypes[(data.dtypes==\"float64\")|(data.dtypes==\"int64\")].index.values].hist(figsize=[11,11])\n",
    "\n",
    "#The attributes that tell us no information are the following:\n",
    "data = data.drop(columns=['url','address','phone','name', 'location'])"
   ]
  },
  {
   "cell_type": "code",
   "execution_count": 90,
   "metadata": {},
   "outputs": [
    {
     "name": "stdout",
     "output_type": "stream",
     "text": [
      "# of Duplicate restuarants: 0\n"
     ]
    }
   ],
   "source": [
    "#c)\n",
    "\n",
    "duplicates = sum(data.duplicated())\n",
    "print(\"# of Duplicate restuarants:\", duplicates)\n",
    "if duplicates > 0:\n",
    "    data = data.drop_duplicates()"
   ]
  },
  {
   "cell_type": "code",
   "execution_count": 122,
   "metadata": {},
   "outputs": [
    {
     "data": {
      "text/plain": [
       "online_order                                                                 Yes\n",
       "book_table                                                                   Yes\n",
       "rate                                                                         4.9\n",
       "votes                                                                      16345\n",
       "rest_type                                                           Microbrewery\n",
       "dish_liked                     Cocktails, Dahi Kebab, Rajma Chawal, Butter Ch...\n",
       "cuisines                       Continental, North Indian, Italian, South Indi...\n",
       "approx_cost(for two people)                                                1,600\n",
       "reviews_list                   [('Rated 5.0', 'RATED\\n  I have been to this p...\n",
       "menu_item                                                                     []\n",
       "listed_in(type)                                                         Delivery\n",
       "listed_in(city)                                                        Bellandur\n",
       "Name: 3921, dtype: object"
      ]
     },
     "execution_count": 122,
     "metadata": {},
     "output_type": "execute_result"
    }
   ],
   "source": [
    "#d)\n",
    "\n",
    "data.rate = data.rate.astype(str)\n",
    "data.rate = data.rate.str.rstrip('/5')\n",
    "data.rate = pd.to_numeric(data.rate, errors='coerce')\n",
    "data.dropna(inplace=True, subset=['rate'])\n",
    "data.rate = data.rate.astype(float)\n",
    "data.loc[data['rate'].idxmax()]"
   ]
  },
  {
   "cell_type": "markdown",
   "metadata": {},
   "source": [
    "#3\n",
    "a)  This is a supervised task because I am guiding the algorithm as the data has labels.\n",
    "    This task is a regression problem because it's forecasting a single dependent variable based on other explanatory variables\n",
    "\n",
    "b)  I will use LinearRegression from sklearn because it does multiple regression very easily and efficiently.\n",
    "c)  I will use the R-squared metric and mean squared error because they will tell how well the model fits the data.\n",
    "d)  To avoid overfitting I will use cross validation."
   ]
  },
  {
   "cell_type": "code",
   "execution_count": 143,
   "metadata": {},
   "outputs": [
    {
     "name": "stderr",
     "output_type": "stream",
     "text": [
      "C:\\Users\\james\\Anaconda3\\lib\\site-packages\\sklearn\\preprocessing\\label.py:235: DataConversionWarning: A column-vector y was passed when a 1d array was expected. Please change the shape of y to (n_samples, ), for example using ravel().\n",
      "  y = column_or_1d(y, warn=True)\n"
     ]
    },
    {
     "name": "stdout",
     "output_type": "stream",
     "text": [
      "0.03768535256677685\n",
      "R-squared scores: [0.0478026  0.029215   0.00514161 0.03641727 0.00534451 0.00935104\n",
      " 0.02689302 0.02570587 0.03512103 0.04047586]\n",
      "Negative Mean Squared Errors: [-257.94305842 -304.83674263 -357.45013934 -303.49622003 -252.46020721\n",
      " -277.6184537  -315.82759535 -345.51420753 -336.24908721 -321.4839948 ]\n"
     ]
    }
   ],
   "source": [
    "#e and f)\n",
    "\n",
    "data.dropna(inplace=True, subset=['rate', 'approx_cost(for two people)', 'cuisines', 'rest_type', 'listed_in(city)'])\n",
    "y = data[['approx_cost(for two people)']].values\n",
    "X = data[['rate', 'cuisines', 'rest_type', 'listed_in(city)']]\n",
    "le = LabelEncoder()\n",
    "y = le.fit_transform(y)\n",
    "X = X.apply(LabelEncoder().fit_transform)\n",
    "reg = LinearRegression().fit(X, y)\n",
    "print(\"R-squared scores:\", cross_val_score(reg, X, y, cv=10))\n",
    "print(\"Negative Mean Squared Errors:\", cross_val_score(reg, X, y, cv=10, scoring='neg_mean_squared_error'))"
   ]
  }
 ],
 "metadata": {
  "kernelspec": {
   "display_name": "Python 3",
   "language": "python",
   "name": "python3"
  },
  "language_info": {
   "codemirror_mode": {
    "name": "ipython",
    "version": 3
   },
   "file_extension": ".py",
   "mimetype": "text/x-python",
   "name": "python",
   "nbconvert_exporter": "python",
   "pygments_lexer": "ipython3",
   "version": "3.6.8"
  }
 },
 "nbformat": 4,
 "nbformat_minor": 2
}
